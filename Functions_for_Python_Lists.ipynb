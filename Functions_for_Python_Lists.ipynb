{
  "nbformat": 4,
  "nbformat_minor": 0,
  "metadata": {
    "colab": {
      "provenance": []
    },
    "kernelspec": {
      "name": "python3",
      "display_name": "Python 3"
    },
    "language_info": {
      "name": "python"
    }
  },
  "cells": [
    {
      "cell_type": "code",
      "execution_count": null,
      "metadata": {
        "id": "JtcH0E4CJY1j"
      },
      "outputs": [],
      "source": [
        "import pandas as pd\n",
        "import numpy as np"
      ]
    },
    {
      "cell_type": "markdown",
      "source": [
        "# List Functions"
      ],
      "metadata": {
        "id": "W7U4U9QUJf1C"
      }
    },
    {
      "cell_type": "markdown",
      "source": [
        "## Find the length of an object with .len()"
      ],
      "metadata": {
        "id": "DajmBdEAJhlx"
      }
    },
    {
      "cell_type": "code",
      "source": [
        "## The len() function counts the number of elements in a list.\n",
        "\n",
        "mylist = [\"apple\",\"banana\",[\"orange\",\"cherry\"]] ## This list has another list inside it but is counted as one element.\n",
        "\n",
        "len(mylist)"
      ],
      "metadata": {
        "colab": {
          "base_uri": "https://localhost:8080/"
        },
        "id": "ZLwSpnxSJlRn",
        "outputId": "11b1c6db-8cc9-4678-d1b6-f10fe682df62"
      },
      "execution_count": null,
      "outputs": [
        {
          "output_type": "execute_result",
          "data": {
            "text/plain": [
              "3"
            ]
          },
          "metadata": {},
          "execution_count": 3
        }
      ]
    },
    {
      "cell_type": "markdown",
      "source": [
        "## Add a new item using .append()"
      ],
      "metadata": {
        "id": "UlKkRueAJ50g"
      }
    },
    {
      "cell_type": "code",
      "source": [
        "## The .append() function adds new items to the list.\n",
        "\n",
        "colors = [\"red\",\"blue\",\"pink\"]\n",
        "\n",
        "colors.append(\"yellow\") ## This adds the color 'yellow' to the colors list.\n",
        "\n",
        "colors"
      ],
      "metadata": {
        "colab": {
          "base_uri": "https://localhost:8080/"
        },
        "id": "mJfaum9jKXKp",
        "outputId": "3ef84e7d-09ae-457a-b850-a19f7c07b89f"
      },
      "execution_count": null,
      "outputs": [
        {
          "output_type": "execute_result",
          "data": {
            "text/plain": [
              "['red', 'blue', 'pink', 'yellow']"
            ]
          },
          "metadata": {},
          "execution_count": 8
        }
      ]
    },
    {
      "cell_type": "markdown",
      "source": [
        "## Add new items with .insert()"
      ],
      "metadata": {
        "id": "XbUvPXUDLaTr"
      }
    },
    {
      "cell_type": "code",
      "source": [
        "## The .insert() function adds new items anywhere in the list.\n",
        "\n",
        "colors = [\"red\",\"blue\",\"pink\"]\n",
        "## The position index refers to each element's position in the list in numerical order.\n",
        "\n",
        "colors.insert(1,\"yellow\")\n",
        "## The first argument decides where the element will be inserted into.\n",
        "## The second argument is the new element to be added.\n",
        "\n",
        "colors ## The new element is now added as the second item in the"
      ],
      "metadata": {
        "colab": {
          "base_uri": "https://localhost:8080/"
        },
        "id": "pQS4uYV0LcTP",
        "outputId": "da390c89-6ac3-429d-efee-248123985390"
      },
      "execution_count": null,
      "outputs": [
        {
          "output_type": "execute_result",
          "data": {
            "text/plain": [
              "['red', 'yellow', 'blue', 'pink']"
            ]
          },
          "metadata": {},
          "execution_count": 10
        }
      ]
    },
    {
      "cell_type": "markdown",
      "source": [
        "## Reduce your list with .remove()"
      ],
      "metadata": {
        "id": "zYFEHeQdCBca"
      }
    },
    {
      "cell_type": "code",
      "source": [
        "## .remove() takes away a specific element from your list.\n",
        "\n",
        "colors = [\"red\",\"blue\",\"yellow\"]\n",
        "\n",
        "colors.remove(\"red\") ## This removes the value 'red' from the list.\n",
        "\n",
        "colors"
      ],
      "metadata": {
        "colab": {
          "base_uri": "https://localhost:8080/"
        },
        "id": "ZP1QaL8VCbtz",
        "outputId": "af9192b8-a26f-4d20-dc6a-aca9a27e71ee"
      },
      "execution_count": 1,
      "outputs": [
        {
          "output_type": "execute_result",
          "data": {
            "text/plain": [
              "['blue', 'yellow']"
            ]
          },
          "metadata": {},
          "execution_count": 1
        }
      ]
    },
    {
      "cell_type": "code",
      "source": [
        "## removing a nonexistent item returns an error.\n",
        "colors = [\"red\",\"blue\",\"yellow\"]\n",
        "\n",
        "colors.remove(\"pink\")\n",
        "\n",
        "colors"
      ],
      "metadata": {
        "id": "gdaXSwCkCAwC"
      },
      "execution_count": null,
      "outputs": []
    },
    {
      "cell_type": "markdown",
      "source": [
        "## Get to counting items using .count()"
      ],
      "metadata": {
        "id": "hVQrVOXQDpek"
      }
    },
    {
      "cell_type": "code",
      "source": [
        "## Count items using .count()\n",
        "\n",
        "colors = [\"red\",\"red\",\"pink\",\"yellow\"]\n",
        "\n",
        "colors.count(\"red\") ## This counts the element 'red' in the list."
      ],
      "metadata": {
        "colab": {
          "base_uri": "https://localhost:8080/"
        },
        "id": "5horjRAzDreF",
        "outputId": "ccdf4429-a630-4ea5-88b8-69f567dc6bfa"
      },
      "execution_count": 3,
      "outputs": [
        {
          "output_type": "execute_result",
          "data": {
            "text/plain": [
              "2"
            ]
          },
          "metadata": {},
          "execution_count": 3
        }
      ]
    },
    {
      "cell_type": "code",
      "source": [
        "## Counting nonexistent values will return a zero.\n",
        "\n",
        "colors = [\"red\",\"red\",\"pink\",\"yellow\"]\n",
        "\n",
        "colors.count(\"blue\") ## This counts the element 'blue' in the list."
      ],
      "metadata": {
        "colab": {
          "base_uri": "https://localhost:8080/"
        },
        "id": "pi7suOhOEBSS",
        "outputId": "2e7a3ca8-d882-42dd-9b65-2aeca1f12c0c"
      },
      "execution_count": 4,
      "outputs": [
        {
          "output_type": "execute_result",
          "data": {
            "text/plain": [
              "0"
            ]
          },
          "metadata": {},
          "execution_count": 4
        }
      ]
    }
  ]
}