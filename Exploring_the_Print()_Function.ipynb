{
  "nbformat": 4,
  "nbformat_minor": 0,
  "metadata": {
    "colab": {
      "provenance": []
    },
    "kernelspec": {
      "name": "python3",
      "display_name": "Python 3"
    },
    "language_info": {
      "name": "python"
    }
  },
  "cells": [
    {
      "cell_type": "markdown",
      "source": [
        "# Exploring the print() function"
      ],
      "metadata": {
        "id": "eT0gG93rQckM"
      }
    },
    {
      "cell_type": "markdown",
      "source": [
        "## Using print() to display multiple arguments."
      ],
      "metadata": {
        "id": "PO5azM_BQpIL"
      }
    },
    {
      "cell_type": "code",
      "source": [
        "## .print() function can receive multiple arguments.\n",
        "\n",
        "greeting = \"Hello\"\n",
        "name = \"Albert\"\n",
        "\n",
        "print(greeting, name) ## Multiple arguments are separated by commas."
      ],
      "metadata": {
        "colab": {
          "base_uri": "https://localhost:8080/"
        },
        "id": "fG0UY-HxQtn9",
        "outputId": "5822798c-b2c8-45ab-ef9e-7efd00ab6f15"
      },
      "execution_count": 2,
      "outputs": [
        {
          "output_type": "stream",
          "name": "stdout",
          "text": [
            "Hello Albert\n"
          ]
        }
      ]
    },
    {
      "cell_type": "markdown",
      "source": [
        "## The print() function respects line breaks."
      ],
      "metadata": {
        "id": "RvzJMqldQ_0Y"
      }
    },
    {
      "cell_type": "code",
      "execution_count": 3,
      "metadata": {
        "colab": {
          "base_uri": "https://localhost:8080/"
        },
        "id": "EevY1ASxQTVp",
        "outputId": "07f67b7d-fa8e-4e4e-a094-9a026db67ada"
      },
      "outputs": [
        {
          "output_type": "stream",
          "name": "stdout",
          "text": [
            "Hello there \n",
            "Albert\n"
          ]
        }
      ],
      "source": [
        "## The print() will display line breaks.\n",
        "\n",
        "greeting = \"Hello there \\nAlbert\" ## The \\n represents a linebreak.\n",
        "\n",
        "print(greeting) ## This displays Albert on another line due to the linebreak."
      ]
    },
    {
      "cell_type": "markdown",
      "source": [
        "## Use triple quotation for multiline printing."
      ],
      "metadata": {
        "id": "BHaXieGmRThw"
      }
    },
    {
      "cell_type": "code",
      "source": [
        "## Enclose strings with triple quotation markes.\n",
        "\n",
        "greeting = \"\"\"Hello there.\n",
        "Albert.\n",
        "How are you doing today?\n",
        "\"\"\"\n",
        "## The triple quotation markes recognizes the line breaks even without \\n\n",
        "\n",
        "print(greeting) ## This will display the string as it was stored in the variable."
      ],
      "metadata": {
        "colab": {
          "base_uri": "https://localhost:8080/"
        },
        "id": "CSJTloZ4RW9I",
        "outputId": "cf0e754d-b128-492b-dd2f-7e6cb476c170"
      },
      "execution_count": 7,
      "outputs": [
        {
          "output_type": "stream",
          "name": "stdout",
          "text": [
            "Hello there.\n",
            "Albert.\n",
            "How are you doing today?\n",
            "\n"
          ]
        }
      ]
    },
    {
      "cell_type": "markdown",
      "source": [
        "## You can use \\\\ to print special characters."
      ],
      "metadata": {
        "id": "JMKqrn98SCiV"
      }
    },
    {
      "cell_type": "code",
      "source": [
        "## Normally, it is difficult to display quotation marks.\n",
        "\n",
        "greeting = \"I said \"Hello there.\".\" ## Two pairs of quotation marks are present.\n",
        "\n",
        "print(greeting) ## The ther pair of quotation marks confuses Python."
      ],
      "metadata": {
        "colab": {
          "base_uri": "https://localhost:8080/",
          "height": 130
        },
        "id": "2SiBeDhYSJ6k",
        "outputId": "c0eb714a-265a-4172-94e6-3d26920b6f92"
      },
      "execution_count": 9,
      "outputs": [
        {
          "output_type": "error",
          "ename": "SyntaxError",
          "evalue": "ignored",
          "traceback": [
            "\u001b[0;36m  File \u001b[0;32m\"<ipython-input-9-9a5cba054b40>\"\u001b[0;36m, line \u001b[0;32m3\u001b[0m\n\u001b[0;31m    greeting = \"I said \"Hello there.\".\" ## Two pairs of quotation marks are present.\u001b[0m\n\u001b[0m                        ^\u001b[0m\n\u001b[0;31mSyntaxError\u001b[0m\u001b[0;31m:\u001b[0m invalid syntax\n"
          ]
        }
      ]
    },
    {
      "cell_type": "code",
      "source": [
        "## Use the \\ symbol to make these special characters printable.\n",
        "\n",
        "greeting = \"I said \\\"Hello there\\\"\" ## The \\ notifies Python that you want these marks printed.\n",
        "\n",
        "print(greeting) ## This will print the greeting without the \\ symbols."
      ],
      "metadata": {
        "colab": {
          "base_uri": "https://localhost:8080/"
        },
        "id": "6vEaHuoMSj49",
        "outputId": "a8fb5181-56e5-465f-e941-66345965b436"
      },
      "execution_count": 10,
      "outputs": [
        {
          "output_type": "stream",
          "name": "stdout",
          "text": [
            "I said \"Hello there\"\n"
          ]
        }
      ]
    },
    {
      "cell_type": "code",
      "source": [
        "## You can display the \\ symbol by adding a \\ in front of it.\n",
        "\n",
        "greeting = \"Hello \\\\ there \\\\ Albert\" ## The \\ makes the \\ printable\n",
        "\n",
        "print(greeting)"
      ],
      "metadata": {
        "colab": {
          "base_uri": "https://localhost:8080/"
        },
        "id": "DQtzw8KtTOxp",
        "outputId": "54e61bc5-e807-4317-ebd5-d28f205b02e6"
      },
      "execution_count": 11,
      "outputs": [
        {
          "output_type": "stream",
          "name": "stdout",
          "text": [
            "Hello \\ there \\ Albert\n"
          ]
        }
      ]
    },
    {
      "cell_type": "markdown",
      "source": [
        "## Use \\\\t to print tabs."
      ],
      "metadata": {
        "id": "oAjyIXHrTbq_"
      }
    },
    {
      "cell_type": "code",
      "source": [
        "## Use the \\t in your springs to create tab breaks.\n",
        "\n",
        "colors = \"red\\torange\\tyellow\\tblue\" ## All \\t are printed as tab breaks.\n",
        "\n",
        "print(colors)"
      ],
      "metadata": {
        "colab": {
          "base_uri": "https://localhost:8080/"
        },
        "id": "r80qMqfnTynQ",
        "outputId": "3db9542d-51f9-4178-e1c5-ce34328fee5d"
      },
      "execution_count": 12,
      "outputs": [
        {
          "output_type": "stream",
          "name": "stdout",
          "text": [
            "red\torange\tyellow\tblue\n"
          ]
        }
      ]
    },
    {
      "cell_type": "markdown",
      "source": [
        "## You can use tabs and line breaks at the same time."
      ],
      "metadata": {
        "id": "XD4FihQIUmPQ"
      }
    },
    {
      "cell_type": "code",
      "source": [
        "## The code will execute the breaks according to how they were written.\n",
        "\n",
        "colors = \"\"\"Here are some colors:\n",
        "\\tred\n",
        "\\torange\n",
        "\\tblue \\n\\tyellow ##\n",
        "\"\"\"\n",
        "\n",
        "print(colors)"
      ],
      "metadata": {
        "colab": {
          "base_uri": "https://localhost:8080/"
        },
        "id": "MIhEwyVORiL3",
        "outputId": "c2e9a71f-e851-4bf0-bfd4-6a4816facc8f"
      },
      "execution_count": 13,
      "outputs": [
        {
          "output_type": "stream",
          "name": "stdout",
          "text": [
            "Here are some colors:\n",
            "\tred\n",
            "\torange\n",
            "\tblue \n",
            "\n"
          ]
        }
      ]
    },
    {
      "cell_type": "code",
      "source": [],
      "metadata": {
        "id": "UriDxU4-omo4"
      },
      "execution_count": null,
      "outputs": []
    }
  ]
}