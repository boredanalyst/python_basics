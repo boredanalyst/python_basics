{
  "nbformat": 4,
  "nbformat_minor": 0,
  "metadata": {
    "colab": {
      "provenance": []
    },
    "kernelspec": {
      "name": "python3",
      "display_name": "Python 3"
    },
    "language_info": {
      "name": "python"
    }
  },
  "cells": [
    {
      "cell_type": "markdown",
      "source": [
        "# String Functions with Python\n",
        "\n",
        "Here are five python functions you can use to format your strings and make them usable for other purposes."
      ],
      "metadata": {
        "id": "ljdgeyqUu_fl"
      }
    },
    {
      "cell_type": "markdown",
      "source": [
        "## .strip()"
      ],
      "metadata": {
        "id": "ZNnOm8JK3EYs"
      }
    },
    {
      "cell_type": "code",
      "source": [
        "## The .strip() function removes leading and trailing whitespace.\n",
        "\n",
        "text = \" String \" ## This text has a leading whitespace AND a trailing whitespace.\n",
        "\n",
        "text = text.strip()\n",
        "\n",
        "text"
      ],
      "metadata": {
        "colab": {
          "base_uri": "https://localhost:8080/",
          "height": 35
        },
        "id": "abJLTyx13DQc",
        "outputId": "900e34c4-6e10-4a81-9af5-952b8adb4949"
      },
      "execution_count": null,
      "outputs": [
        {
          "output_type": "execute_result",
          "data": {
            "text/plain": [
              "'String'"
            ],
            "application/vnd.google.colaboratory.intrinsic+json": {
              "type": "string"
            }
          },
          "metadata": {},
          "execution_count": 13
        }
      ]
    },
    {
      "cell_type": "markdown",
      "source": [
        "## .lower() and .upper()"
      ],
      "metadata": {
        "id": "S4-YMzdEvLTv"
      }
    },
    {
      "cell_type": "code",
      "source": [
        "## The .lower() function transforms strings into lowercase.\n",
        "\n",
        "text = \"Human resources\"\n",
        "\n",
        "text = text.lower()\n",
        "\n",
        "text"
      ],
      "metadata": {
        "colab": {
          "base_uri": "https://localhost:8080/",
          "height": 35
        },
        "id": "akqMIvVlvCwt",
        "outputId": "1d13ccf4-ea9d-42b5-bedc-edde5c179e33"
      },
      "execution_count": null,
      "outputs": [
        {
          "output_type": "execute_result",
          "data": {
            "text/plain": [
              "'human resources'"
            ],
            "application/vnd.google.colaboratory.intrinsic+json": {
              "type": "string"
            }
          },
          "metadata": {},
          "execution_count": 1
        }
      ]
    },
    {
      "cell_type": "code",
      "source": [
        "## The .upper() function transforms strings into uppercase.\n",
        "\n",
        "text = \"Human resources\"\n",
        "\n",
        "text = text.upper()\n",
        "\n",
        "text"
      ],
      "metadata": {
        "colab": {
          "base_uri": "https://localhost:8080/",
          "height": 35
        },
        "id": "usJH9IK7v6LL",
        "outputId": "a064c141-c1a2-4f54-c21f-e8ca41923742"
      },
      "execution_count": null,
      "outputs": [
        {
          "output_type": "execute_result",
          "data": {
            "text/plain": [
              "'HUMAN RESOURCES'"
            ],
            "application/vnd.google.colaboratory.intrinsic+json": {
              "type": "string"
            }
          },
          "metadata": {},
          "execution_count": 2
        }
      ]
    },
    {
      "cell_type": "markdown",
      "source": [
        "## .title()"
      ],
      "metadata": {
        "id": "YVwK2jo7wMpN"
      }
    },
    {
      "cell_type": "code",
      "source": [
        "## The .title() function capitalizes each letter of each word in the string.\n",
        "\n",
        "text = \"the quick brown fox jumped over the lazy dog.\"\n",
        "\n",
        "text = text.title()\n",
        "\n",
        "text"
      ],
      "metadata": {
        "colab": {
          "base_uri": "https://localhost:8080/",
          "height": 35
        },
        "id": "LF3JVVwGwPJd",
        "outputId": "17982f79-3165-4ffb-9a7c-bb6b404ebc30"
      },
      "execution_count": null,
      "outputs": [
        {
          "output_type": "execute_result",
          "data": {
            "text/plain": [
              "'The Quick Brown Fox Jumped Over The Lazy Dog.'"
            ],
            "application/vnd.google.colaboratory.intrinsic+json": {
              "type": "string"
            }
          },
          "metadata": {},
          "execution_count": 4
        }
      ]
    },
    {
      "cell_type": "markdown",
      "source": [
        "## .split()"
      ],
      "metadata": {
        "id": "ne05S8UTwehe"
      }
    },
    {
      "cell_type": "code",
      "source": [
        "## The .split() function splits a string according to the provided delimeter.\n",
        "\n",
        "\n",
        "text = \"the quick brown fox jumped over the lazy dog.\"\n",
        "\n",
        "list_text = text.split()\n",
        "\n",
        "list_text"
      ],
      "metadata": {
        "colab": {
          "base_uri": "https://localhost:8080/"
        },
        "id": "mjmUYcXKwgnW",
        "outputId": "a5b07c81-59d3-4eaa-d589-8484e8ccb185"
      },
      "execution_count": null,
      "outputs": [
        {
          "output_type": "execute_result",
          "data": {
            "text/plain": [
              "['the', 'quick', 'brown', 'fox', 'jumped', 'over', 'the', 'lazy', 'dog.']"
            ]
          },
          "metadata": {},
          "execution_count": 5
        }
      ]
    },
    {
      "cell_type": "code",
      "source": [
        "## As the function returns a list, you can use it for iteration.\n",
        "\n",
        "for text in list_text: ## This loops over all the text in the list_text object from the .split() function.\n",
        "  print(text.upper()) ## This prints the upper case version of each of the item in the list.\n"
      ],
      "metadata": {
        "colab": {
          "base_uri": "https://localhost:8080/"
        },
        "id": "ueZRUH0zxNjz",
        "outputId": "30707b0c-dee3-4935-8078-743ec6f2dbf9"
      },
      "execution_count": null,
      "outputs": [
        {
          "output_type": "stream",
          "name": "stdout",
          "text": [
            "THE\n",
            "QUICK\n",
            "BROWN\n",
            "FOX\n",
            "JUMPED\n",
            "OVER\n",
            "THE\n",
            "LAZY\n",
            "DOG.\n"
          ]
        }
      ]
    },
    {
      "cell_type": "code",
      "source": [
        "## You can provide a specific delimiter for the .split() function so the string gets split based on that.\n",
        "\n",
        "text = \"apple,orange,banana\"\n",
        "\n",
        "list_fruits = text.split(\",\") ## This will split the text according to the \"commas\"\n",
        "\n",
        "for fruit in list_fruits:\n",
        "  print(fruit)"
      ],
      "metadata": {
        "colab": {
          "base_uri": "https://localhost:8080/"
        },
        "id": "9AVgjPDM1utU",
        "outputId": "b70fd99a-9021-487a-80f6-2d8c1511363f"
      },
      "execution_count": null,
      "outputs": [
        {
          "output_type": "stream",
          "name": "stdout",
          "text": [
            "apple\n",
            "orange\n",
            "banana\n"
          ]
        }
      ]
    },
    {
      "cell_type": "markdown",
      "source": [
        "## .replace()"
      ],
      "metadata": {
        "id": "7nxB_x2FyEpY"
      }
    },
    {
      "cell_type": "code",
      "source": [
        "## The .replace() function replaces certain parts of the string with something else.\n",
        "\n",
        "text = \"the quick brown fox jumped over the lazy dog.\"\n",
        "\n",
        "text = text.replace(\"fox\",\"cat\") ## The first argument is the text you want to replace while the second argument is the value you want to replace it with.\n",
        "\n",
        "text ## The returned value replaces \"fox\" with \"cat\""
      ],
      "metadata": {
        "colab": {
          "base_uri": "https://localhost:8080/",
          "height": 35
        },
        "id": "_dVlZq97yHUQ",
        "outputId": "af64f63b-3852-497b-a867-defa45cc1e74"
      },
      "execution_count": null,
      "outputs": [
        {
          "output_type": "execute_result",
          "data": {
            "text/plain": [
              "'the quick brown cat jumped over the lazy dog.'"
            ],
            "application/vnd.google.colaboratory.intrinsic+json": {
              "type": "string"
            }
          },
          "metadata": {},
          "execution_count": 7
        }
      ]
    },
    {
      "cell_type": "code",
      "source": [
        "## You can also replace punctuations with an empty string to remove it.\n",
        "\n",
        "text = \"Hello!\"\n",
        "\n",
        "text = text.replace(\"!\",\"\")\n",
        "\n",
        "text"
      ],
      "metadata": {
        "colab": {
          "base_uri": "https://localhost:8080/",
          "height": 35
        },
        "id": "jyOlc2P20Nr0",
        "outputId": "e635a62f-9ee4-4e33-d4b4-f68b99461ac8"
      },
      "execution_count": null,
      "outputs": [
        {
          "output_type": "execute_result",
          "data": {
            "text/plain": [
              "'Hello'"
            ],
            "application/vnd.google.colaboratory.intrinsic+json": {
              "type": "string"
            }
          },
          "metadata": {},
          "execution_count": 8
        }
      ]
    }
  ]
}