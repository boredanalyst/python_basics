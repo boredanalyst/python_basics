{
  "nbformat": 4,
  "nbformat_minor": 0,
  "metadata": {
    "colab": {
      "provenance": []
    },
    "kernelspec": {
      "name": "python3",
      "display_name": "Python 3"
    },
    "language_info": {
      "name": "python"
    }
  },
  "cells": [
    {
      "cell_type": "markdown",
      "source": [
        "# Special Rules for Python Variables"
      ],
      "metadata": {
        "id": "t3J3xIYR8PKN"
      }
    },
    {
      "cell_type": "markdown",
      "source": [
        "## Declaring Multiple Variables"
      ],
      "metadata": {
        "id": "sd1au8X69WgH"
      }
    },
    {
      "cell_type": "code",
      "execution_count": null,
      "metadata": {
        "colab": {
          "base_uri": "https://localhost:8080/"
        },
        "id": "8tw7IJKS8KVh",
        "outputId": "3493ce2a-3851-484c-d750-3348c28d4bc1"
      },
      "outputs": [
        {
          "output_type": "stream",
          "name": "stdout",
          "text": [
            "3\n",
            "4\n"
          ]
        }
      ],
      "source": [
        "## You can declare multiple variables at once.\n",
        "\n",
        "x , y = 3, 4 ## Separate the variables and values by commas.\n",
        "\n",
        "print(x) ## The value 3 will be stored in x as it was the first variable declared.\n",
        "print(y) ## the value 4 will be stored in y as it was the second variable declared."
      ]
    },
    {
      "cell_type": "markdown",
      "source": [
        "## The number of values and variables should match"
      ],
      "metadata": {
        "id": "DbuBZnen9Ztf"
      }
    },
    {
      "cell_type": "code",
      "source": [
        "## When declaring multiple variables, the number of variables should match the number of values.\n",
        "\n",
        "x ,y = 3 ## This will return an error as the value fo 'y' is missing."
      ],
      "metadata": {
        "id": "6BCKQ9TJ9efR"
      },
      "execution_count": null,
      "outputs": []
    },
    {
      "cell_type": "code",
      "source": [
        "## To store the same value to multiple variables, you should repeat it how many times applicable.\n",
        "\n",
        "x ,y = 3 ,3 ## This will store the values to the variables correctly.\n",
        "\n",
        "print(x)\n",
        "print(y)"
      ],
      "metadata": {
        "id": "NxHw3NGb9qyf"
      },
      "execution_count": null,
      "outputs": []
    },
    {
      "cell_type": "markdown",
      "source": [
        "## Some illegal variable names."
      ],
      "metadata": {
        "id": "r5Bfxil894Ch"
      }
    },
    {
      "cell_type": "code",
      "source": [
        "## Some variables names are considered invalid and will return an error when executed.\n",
        "\n",
        "1_digit = 0 ## Your variable name cannot start with a digit.\n",
        "\n",
        "!digit = 0 ## Your variable name cannot contain special characters except underscores.\n",
        "\n",
        "for = 0 ## Your variable name cannot be another name used by Python in its code."
      ],
      "metadata": {
        "id": "IJK6izhX963M"
      },
      "execution_count": null,
      "outputs": []
    },
    {
      "cell_type": "markdown",
      "source": [
        "## Coding f-strings to directly use variables."
      ],
      "metadata": {
        "id": "qvQp3vFc-8eY"
      }
    },
    {
      "cell_type": "code",
      "source": [
        "## f=strings allow you to directly embed values of variables into strings.\n",
        "\n",
        "## These variables will be declared with the following values.\n",
        "name = \"Albert\"\n",
        "age = 30\n",
        "\n",
        "## The variables inside the {} will display their values when printed.\n",
        "print(f'Hello there. I am {name} and I am {age} years old.')\n",
        "\n",
        "## You can use the variables in multiple f strings.\n",
        "print(f'Hello {name} I am also {age} years old. Nice to meet you.')"
      ],
      "metadata": {
        "id": "bD5T1j2a_AgU"
      },
      "execution_count": null,
      "outputs": []
    },
    {
      "cell_type": "markdown",
      "source": [
        "## Redeclaring the variable name overwrites its values."
      ],
      "metadata": {
        "id": "sDkkbkeKBXXJ"
      }
    },
    {
      "cell_type": "code",
      "source": [
        "## If you declare an aldready declared variable, its value will be overwritten.\n",
        "\n",
        "greeting = \"Hello\" ## This stores 'Hello' to the variable greeting.\n",
        "\n",
        "name = \"Albert\"\n",
        "\n",
        "greeting =\"Goodbye\" ## This replaces the current value with 'Goodbye'\n",
        "\n",
        "print(f'{greeting} {name}')"
      ],
      "metadata": {
        "colab": {
          "base_uri": "https://localhost:8080/"
        },
        "id": "1uQ_lZFdBdKz",
        "outputId": "d8e711bc-b888-47f3-a8ee-7034c0789f93"
      },
      "execution_count": null,
      "outputs": [
        {
          "output_type": "stream",
          "name": "stdout",
          "text": [
            "Goodbye Albert\n"
          ]
        }
      ]
    }
  ]
}