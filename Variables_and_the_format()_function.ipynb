{
  "nbformat": 4,
  "nbformat_minor": 0,
  "metadata": {
    "colab": {
      "provenance": []
    },
    "kernelspec": {
      "name": "python3",
      "display_name": "Python 3"
    },
    "language_info": {
      "name": "python"
    }
  },
  "cells": [
    {
      "cell_type": "markdown",
      "source": [
        "# Variable and String Formatting"
      ],
      "metadata": {
        "id": "FoU_NBaEHZ8v"
      }
    },
    {
      "cell_type": "markdown",
      "source": [
        "## Using the .format() function"
      ],
      "metadata": {
        "id": "9qEseHNTHoCQ"
      }
    },
    {
      "cell_type": "code",
      "execution_count": null,
      "metadata": {
        "colab": {
          "base_uri": "https://localhost:8080/",
          "height": 35
        },
        "id": "AIJktrsRG0ey",
        "outputId": "8d1e244b-0476-41f8-812a-7c6bd67c9164"
      },
      "outputs": [
        {
          "output_type": "execute_result",
          "data": {
            "text/plain": [
              "'Hello Albert.'"
            ],
            "application/vnd.google.colaboratory.intrinsic+json": {
              "type": "string"
            }
          },
          "metadata": {},
          "execution_count": 1
        }
      ],
      "source": [
        "## The .format() function plugs variables' values into placeholders.\n",
        "\n",
        "greeting = \"Hello {}.\" ## The {} act as placeholders for variables.\n",
        "\n",
        "name = \"Albert\"\n",
        "\n",
        "greeting.format(name) ## The placeholder in \"greeting\" will be replaced with \"name\""
      ]
    },
    {
      "cell_type": "markdown",
      "source": [
        "## Passing multiple values into .format() dictates the order of substitution."
      ],
      "metadata": {
        "id": "YYK8rilSIS-Z"
      }
    },
    {
      "cell_type": "code",
      "source": [
        "## The order of substitution is dictated by the .format() function\n",
        "\n",
        "greeting = \"Hello {}. I am {}\" ## This string has two placeholders.\n",
        "\n",
        "your_name = \"Albert\"\n",
        "my_name = \"Mary\"\n",
        "\n",
        "greeting.format(your_name,my_name)\n",
        "## your_name will take the first placeholder's place.\n",
        "## my_name will take the second's place.\n"
      ],
      "metadata": {
        "colab": {
          "base_uri": "https://localhost:8080/",
          "height": 35
        },
        "id": "bmy4pKOzIaL4",
        "outputId": "f4a48f54-db13-4d1f-f870-986d05d05adb"
      },
      "execution_count": null,
      "outputs": [
        {
          "output_type": "execute_result",
          "data": {
            "text/plain": [
              "'Hello Albert. I am Mary'"
            ],
            "application/vnd.google.colaboratory.intrinsic+json": {
              "type": "string"
            }
          },
          "metadata": {},
          "execution_count": 2
        }
      ]
    },
    {
      "cell_type": "markdown",
      "source": [
        "## The number of placeholders cannot exceed the number of variables.\n",
        "\n"
      ],
      "metadata": {
        "id": "qODNYla-I7V2"
      }
    },
    {
      "cell_type": "code",
      "source": [
        "## Error will occur when the number of placeholders exceed the number of variables.\n",
        "\n",
        "greeting = \"Hello {}. I am {}\"\n",
        "\n",
        "name = \"Albert\"\n",
        "\n",
        "greeting.format(name)"
      ],
      "metadata": {
        "colab": {
          "base_uri": "https://localhost:8080/",
          "height": 200
        },
        "id": "8e0vsOQOJDHz",
        "outputId": "c7aa6d02-9bdf-434e-84fa-0a97b322c3e2"
      },
      "execution_count": null,
      "outputs": [
        {
          "output_type": "error",
          "ename": "IndexError",
          "evalue": "ignored",
          "traceback": [
            "\u001b[0;31m---------------------------------------------------------------------------\u001b[0m",
            "\u001b[0;31mIndexError\u001b[0m                                Traceback (most recent call last)",
            "\u001b[0;32m<ipython-input-5-a33a8b75e05a>\u001b[0m in \u001b[0;36m<cell line: 5>\u001b[0;34m()\u001b[0m\n\u001b[1;32m      3\u001b[0m \u001b[0mname\u001b[0m \u001b[0;34m=\u001b[0m \u001b[0;34m\"Albert\"\u001b[0m\u001b[0;34m\u001b[0m\u001b[0;34m\u001b[0m\u001b[0m\n\u001b[1;32m      4\u001b[0m \u001b[0;34m\u001b[0m\u001b[0m\n\u001b[0;32m----> 5\u001b[0;31m \u001b[0mgreeting\u001b[0m\u001b[0;34m.\u001b[0m\u001b[0mformat\u001b[0m\u001b[0;34m(\u001b[0m\u001b[0mname\u001b[0m\u001b[0;34m)\u001b[0m\u001b[0;34m\u001b[0m\u001b[0;34m\u001b[0m\u001b[0m\n\u001b[0m",
            "\u001b[0;31mIndexError\u001b[0m: Replacement index 1 out of range for positional args tuple"
          ]
        }
      ]
    },
    {
      "cell_type": "markdown",
      "source": [
        "## The number of variables can exceed the number of placeholders."
      ],
      "metadata": {
        "id": "i9GYzWmyJYdC"
      }
    },
    {
      "cell_type": "code",
      "source": [
        "## .format() will ignore that excessive variables.\n",
        "\n",
        "greeting = \"Hello {}\"\n",
        "\n",
        "your_name = \"Albert\"\n",
        "my_name = \"Mary\"\n",
        "\n",
        "greeting.format(your_name, my_name)\n",
        "## There are 2 variables but only one placeholder.\n",
        "## Python will ignore all variables except the first one.\n"
      ],
      "metadata": {
        "colab": {
          "base_uri": "https://localhost:8080/",
          "height": 35
        },
        "id": "Jo8GUX3KJcm8",
        "outputId": "83cd390c-5982-47c2-f51c-03f753624da2"
      },
      "execution_count": null,
      "outputs": [
        {
          "output_type": "execute_result",
          "data": {
            "text/plain": [
              "'Hello Albert'"
            ],
            "application/vnd.google.colaboratory.intrinsic+json": {
              "type": "string"
            }
          },
          "metadata": {},
          "execution_count": 7
        }
      ]
    },
    {
      "cell_type": "markdown",
      "source": [
        "## You don't really need to use variables."
      ],
      "metadata": {
        "id": "u8WXGlyuKKqE"
      }
    },
    {
      "cell_type": "code",
      "source": [
        "## You can directly use .format() on a string.\n",
        "\n",
        "\"Hello {}\".format(\"Albert\") ## No variables are used in this example."
      ],
      "metadata": {
        "colab": {
          "base_uri": "https://localhost:8080/",
          "height": 35
        },
        "id": "PhoKcjOAI6iG",
        "outputId": "6d4f23b6-492a-4a60-b1eb-ab7fd2614634"
      },
      "execution_count": null,
      "outputs": [
        {
          "output_type": "execute_result",
          "data": {
            "text/plain": [
              "'Hello Albert'"
            ],
            "application/vnd.google.colaboratory.intrinsic+json": {
              "type": "string"
            }
          },
          "metadata": {},
          "execution_count": 8
        }
      ]
    },
    {
      "cell_type": "markdown",
      "source": [
        "## You can insert more placeholders inside placeholders."
      ],
      "metadata": {
        "id": "0eYMpsXhPP5w"
      }
    },
    {
      "cell_type": "code",
      "source": [
        "## You can replace {} with more {}\n",
        "\n",
        "original = \"{} {} {}\"\n",
        "\n",
        "replacement = \"{} {}\"\n",
        "\n",
        "original.format(replacement, replacement, replacement)\n",
        "## This will replace the {} in the original with 2 {} each."
      ],
      "metadata": {
        "colab": {
          "base_uri": "https://localhost:8080/",
          "height": 35
        },
        "id": "meqkXXytPTG-",
        "outputId": "56cf1265-182c-4c9e-abed-c56c26d5a748"
      },
      "execution_count": null,
      "outputs": [
        {
          "output_type": "execute_result",
          "data": {
            "text/plain": [
              "'{} {} {} {} {} {}'"
            ],
            "application/vnd.google.colaboratory.intrinsic+json": {
              "type": "string"
            }
          },
          "metadata": {},
          "execution_count": 10
        }
      ]
    },
    {
      "cell_type": "code",
      "source": [
        "## You can even fill these new placeholders in with .format() again.\n",
        "\n",
        "original = \"{} {} {}\"\n",
        "\n",
        "replacement = \"{} {}\"\n",
        "\n",
        "new = original.format(replacement,replacement,replacement) ## This will produce 6 '{}'\n",
        "\n",
        "new.format(1,2,3,4,5,6) ## This will replace the placeholders with numbers"
      ],
      "metadata": {
        "colab": {
          "base_uri": "https://localhost:8080/",
          "height": 35
        },
        "id": "0kvuY7CLPeaY",
        "outputId": "d3252adf-a0dc-4d73-9620-682faa4fd6f1"
      },
      "execution_count": null,
      "outputs": [
        {
          "output_type": "execute_result",
          "data": {
            "text/plain": [
              "'1 2 3 4 5 6'"
            ],
            "application/vnd.google.colaboratory.intrinsic+json": {
              "type": "string"
            }
          },
          "metadata": {},
          "execution_count": 11
        }
      ]
    }
  ]
}