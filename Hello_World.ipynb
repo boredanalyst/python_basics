{
  "nbformat": 4,
  "nbformat_minor": 0,
  "metadata": {
    "colab": {
      "provenance": []
    },
    "kernelspec": {
      "name": "python3",
      "display_name": "Python 3"
    },
    "language_info": {
      "name": "python"
    }
  },
  "cells": [
    {
      "cell_type": "markdown",
      "source": [
        "# Hello World\n",
        "Display text using the print() function"
      ],
      "metadata": {
        "id": "fwDc79AUGR7P"
      }
    },
    {
      "cell_type": "code",
      "execution_count": 1,
      "metadata": {
        "colab": {
          "base_uri": "https://localhost:8080/"
        },
        "id": "FYMEDViRGP-G",
        "outputId": "819abd1c-1e0c-459b-e6da-ea05903d96a9"
      },
      "outputs": [
        {
          "output_type": "stream",
          "name": "stdout",
          "text": [
            "Hello World!\n"
          ]
        }
      ],
      "source": [
        "## The print function displays the values inside the parentheses.\n",
        "\n",
        "print(\"Hello World!\")"
      ]
    },
    {
      "cell_type": "code",
      "source": [
        "## You can use the print function multiple times for multiple lines!\n",
        "\n",
        "print(\"This\")\n",
        "print(\"is\")\n",
        "print(\"a\")\n",
        "print(\"whole\")\n",
        "print(\"sentence.\")"
      ],
      "metadata": {
        "colab": {
          "base_uri": "https://localhost:8080/"
        },
        "id": "eePc52CMG70X",
        "outputId": "bf9fe1d0-d812-47ac-f2cc-b71a79795af9"
      },
      "execution_count": 2,
      "outputs": [
        {
          "output_type": "stream",
          "name": "stdout",
          "text": [
            "This\n",
            "is\n",
            "a\n",
            "whole\n",
            "sentence.\n"
          ]
        }
      ]
    }
  ]
}